{
 "cells": [
  {
   "cell_type": "code",
   "execution_count": 19,
   "metadata": {},
   "outputs": [
    {
     "name": "stdout",
     "output_type": "stream",
     "text": [
      "adedeji adetoro\n"
     ]
    }
   ],
   "source": [
    "# A Python program which accepts the user's first and last name and print them in reverse order with a space between them.\n",
    "\n",
    "def users_name(first_name,last_name):\n",
    "  first_name=str(first_name)\n",
    "  last_name=str(last_name)\n",
    "  return f\"{last_name} {first_name}\"\n",
    "print(users_name(\"adetoro\",\"adedeji\"))\n"
   ]
  },
  {
   "cell_type": "code",
   "execution_count": 20,
   "metadata": {},
   "outputs": [
    {
     "name": "stdout",
     "output_type": "stream",
     "text": [
      "615\n"
     ]
    }
   ],
   "source": [
    "#A Python program that accepts an integer (n) and computes the value of n+nn+nnn\n",
    "#Sample value of n is 5 \n",
    "#Expected Result : 615 (5+55+555)\n",
    "\n",
    "def number_program(n):\n",
    "  n=str(n)\n",
    "  nn=2*n\n",
    "  nnn=3*n\n",
    "  return int(n)+int(nn)+int(nnn)\n",
    "print(number_program(5))"
   ]
  },
  {
   "cell_type": "code",
   "execution_count": 10,
   "metadata": {},
   "outputs": [
    {
     "name": "stdout",
     "output_type": "stream",
     "text": [
      "The inputed number (11) is odd\n",
      "The inputed number (100) is even\n"
     ]
    }
   ],
   "source": [
    "# A Python program that checks whether a given number (accept from the user) is even or odd, \n",
    "#and prints out an appropriate message to the user.\n",
    "\n",
    "def is_even_odd(input):\n",
    "  input=int(input)\n",
    "  if input%2==0:\n",
    "    return f\"The inputed number ({input}) is even\"\n",
    "  return f\"The inputed number ({input}) is odd\"\n",
    "\n",
    "print(is_even_odd(11))\n",
    "print(is_even_odd(100))"
   ]
  },
  {
   "cell_type": "code",
   "execution_count": 13,
   "metadata": {},
   "outputs": [
    {
     "name": "stdout",
     "output_type": "stream",
     "text": [
      "2002\n",
      "2009\n",
      "2016\n",
      "2023\n",
      "2037\n",
      "2044\n",
      "2051\n",
      "2058\n",
      "2072\n",
      "2079\n",
      "2086\n",
      "2093\n",
      "2107\n",
      "2114\n",
      "2121\n",
      "2128\n",
      "2142\n",
      "2149\n",
      "2156\n",
      "2163\n",
      "2177\n",
      "2184\n",
      "2191\n",
      "2198\n",
      "2212\n",
      "2219\n",
      "2226\n",
      "2233\n",
      "2247\n",
      "2254\n",
      "2261\n",
      "2268\n",
      "2282\n",
      "2289\n",
      "2296\n",
      "2303\n",
      "2317\n",
      "2324\n",
      "2331\n",
      "2338\n",
      "2352\n",
      "2359\n",
      "2366\n",
      "2373\n",
      "2387\n",
      "2394\n",
      "2401\n",
      "2408\n",
      "2422\n",
      "2429\n",
      "2436\n",
      "2443\n",
      "2457\n",
      "2464\n",
      "2471\n",
      "2478\n",
      "2492\n",
      "2499\n",
      "2506\n",
      "2513\n",
      "2527\n",
      "2534\n",
      "2541\n",
      "2548\n",
      "2562\n",
      "2569\n",
      "2576\n",
      "2583\n",
      "2597\n",
      "2604\n",
      "2611\n",
      "2618\n",
      "2632\n",
      "2639\n",
      "2646\n",
      "2653\n",
      "2667\n",
      "2674\n",
      "2681\n",
      "2688\n",
      "2702\n",
      "2709\n",
      "2716\n",
      "2723\n",
      "2737\n",
      "2744\n",
      "2751\n",
      "2758\n",
      "2772\n",
      "2779\n",
      "2786\n",
      "2793\n",
      "2807\n",
      "2814\n",
      "2821\n",
      "2828\n",
      "2842\n",
      "2849\n",
      "2856\n",
      "2863\n",
      "2877\n",
      "2884\n",
      "2891\n",
      "2898\n",
      "2912\n",
      "2919\n",
      "2926\n",
      "2933\n",
      "2947\n",
      "2954\n",
      "2961\n",
      "2968\n",
      "2982\n",
      "2989\n",
      "2996\n",
      "3003\n",
      "3017\n",
      "3024\n",
      "3031\n",
      "3038\n",
      "3052\n",
      "3059\n",
      "3066\n",
      "3073\n",
      "3087\n",
      "3094\n",
      "3101\n",
      "3108\n",
      "3122\n",
      "3129\n",
      "3136\n",
      "3143\n",
      "3157\n",
      "3164\n",
      "3171\n",
      "3178\n",
      "3192\n",
      "3199\n"
     ]
    }
   ],
   "source": [
    "#A program which will find all such numbers which are divisible by 7 but are not a multiple of 5, between 2000 and 3200 (both included). \n",
    "#The numbers obtained should be printed in a sequence on a single line.\n",
    "\n",
    "\n",
    "for x in range(2000 , 3201): #This will start the loop from 2000 till 3200 because the range function goes till x-1 (In this case 3201 - 1)\n",
    "\n",
    "  if x % 7 == 0 and x % 5 != 0 : #This satisfies the given requirements\n",
    "\n",
    "    print(x)"
   ]
  },
  {
   "cell_type": "code",
   "execution_count": 15,
   "metadata": {},
   "outputs": [
    {
     "name": "stdout",
     "output_type": "stream",
     "text": [
      "Type a number: 0\n",
      "1\n"
     ]
    }
   ],
   "source": [
    "# A program that can compute the factorial of a given number. The results should be printed in a sequence on a single line. \n",
    "\n",
    "\n",
    "def factorial(n):\n",
    "  j = 1\n",
    "  for i in range(1, n+1):\n",
    "      j = j * i\n",
    "  return j\n",
    "\n",
    "number = int(input(\"Type a number: \"))\n",
    "print(factorial(number))\n"
   ]
  },
  {
   "cell_type": "code",
   "execution_count": 16,
   "metadata": {},
   "outputs": [
    {
     "name": "stdout",
     "output_type": "stream",
     "text": [
      "aeoo\n"
     ]
    }
   ],
   "source": [
    "#A program to remove the characters which have odd index values of a given string.\n",
    "\n",
    "#for example: string =\"hello team\"\n",
    "\n",
    "#the result should be: hlota\n",
    "\n",
    "def odd_index (n):\n",
    "  result=\"\"\n",
    "  for i in range(len(n)):\n",
    "    if i % 2 ==0 :\n",
    "       result = result  + n[i]  \n",
    "  return result\n",
    "print(odd_index(\"adetoro\"))"
   ]
  },
  {
   "cell_type": "markdown",
   "metadata": {},
   "source": [
    "A program that discounts a price according to its value.\n",
    "\n",
    "If the price is 500 or above, there will be a 50% discount.\n",
    "\n",
    "If the price is between 200 and 500 (200 inclusive), there will be a 30% discount.\n",
    "\n",
    "If the price is less than 200, there will be a 10% discount."
   ]
  },
  {
   "cell_type": "code",
   "execution_count": 17,
   "metadata": {},
   "outputs": [
    {
     "name": "stdout",
     "output_type": "stream",
     "text": [
      "Price of Commodity:10000\n",
      "5000.0\n"
     ]
    }
   ],
   "source": [
    "def discount(n):\n",
    "  n=int(n)\n",
    "  if n >0:\n",
    "\n",
    "    if n<200:\n",
    "      result = n-0.1*n\n",
    "    elif n >=200 and n < 500:\n",
    "      result= n-0.3*n\n",
    "    if n >= 500:\n",
    "      result = n-0.5*n\n",
    "    return result\n",
    "  return \"Invalid amount\"\n",
    "\n",
    "\n",
    "number = int(input(\"Price of Commodity:\"))\n",
    "#int(input(\"Type a number: \"))\n",
    "print(discount(number))"
   ]
  },
  {
   "cell_type": "code",
   "execution_count": null,
   "metadata": {},
   "outputs": [],
   "source": []
  }
 ],
 "metadata": {
  "kernelspec": {
   "display_name": "Python 3",
   "language": "python",
   "name": "python3"
  },
  "language_info": {
   "codemirror_mode": {
    "name": "ipython",
    "version": 3
   },
   "file_extension": ".py",
   "mimetype": "text/x-python",
   "name": "python",
   "nbconvert_exporter": "python",
   "pygments_lexer": "ipython3",
   "version": "3.8.5"
  }
 },
 "nbformat": 4,
 "nbformat_minor": 4
}
