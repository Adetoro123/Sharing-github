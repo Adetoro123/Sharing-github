{
  "nbformat": 4,
  "nbformat_minor": 0,
  "metadata": {
    "colab": {
      "name": "Untitled18.ipynb",
      "provenance": []
    },
    "kernelspec": {
      "name": "python3",
      "display_name": "Python 3"
    },
    "language_info": {
      "name": "python"
    }
  },
  "cells": [
    {
      "cell_type": "markdown",
      "metadata": {
        "id": "QgMqhViSQYHL"
      },
      "source": [
        "Write a Python program to multiplies all the items in a list.\n",
        "\n",
        "for example list=[2, 3, 6]\n",
        "\n",
        "result = 36"
      ]
    },
    {
      "cell_type": "code",
      "metadata": {
        "id": "3iaNRceAA6yw",
        "colab": {
          "base_uri": "https://localhost:8080/"
        },
        "outputId": "bafcc41a-6f60-45c0-8006-927af3d99984"
      },
      "source": [
        "def multiply(c):\n",
        "  j=1\n",
        "  for i in c :\n",
        "     j=i*j\n",
        "  return j\n",
        "\n",
        "list=[1,2,3,4,5]\n",
        "\n",
        "print(multiply(list))\n"
      ],
      "execution_count": null,
      "outputs": [
        {
          "output_type": "stream",
          "name": "stdout",
          "text": [
            "120\n"
          ]
        }
      ]
    },
    {
      "cell_type": "markdown",
      "metadata": {
        "id": "-KmK5411ISNw"
      },
      "source": [
        ""
      ]
    },
    {
      "cell_type": "markdown",
      "metadata": {
        "id": "DF8zLHB1IS9j"
      },
      "source": [
        "Write a Python program to get a list, sorted in increasing order by the last element in each tuple from a given list of non-empty tuples.\n",
        "Sample List : [(2, 5), (1, 2), (4, 4), (2, 3), (2, 1)]\n",
        "Expected Result : [(2, 1), (1, 2), (2, 3), (4, 4), (2, 5)]"
      ]
    },
    {
      "cell_type": "code",
      "metadata": {
        "id": "krTKfazpID-R"
      },
      "source": [
        "def last(n):\n",
        "    return n[-1]  \n",
        "   \n",
        "def sort(tuples):\n",
        "    return sorted(tuples, key=last)\n",
        "   \n"
      ],
      "execution_count": null,
      "outputs": []
    },
    {
      "cell_type": "code",
      "metadata": {
        "colab": {
          "base_uri": "https://localhost:8080/"
        },
        "id": "iwE8h-ZjRwmd",
        "outputId": "3f1aea1e-da1b-4415-f69c-004e93165257"
      },
      "source": [
        "a = [(5,2), (1, 2), (4, 4), (2, 3), (2, 1)] \n",
        "print(sort(a))"
      ],
      "execution_count": null,
      "outputs": [
        {
          "output_type": "stream",
          "name": "stdout",
          "text": [
            "[(2, 1), (5, 2), (1, 2), (2, 3), (4, 4)]\n"
          ]
        }
      ]
    },
    {
      "cell_type": "code",
      "metadata": {
        "colab": {
          "base_uri": "https://localhost:8080/"
        },
        "id": "4gliHY6GRLp9",
        "outputId": "37153fb5-529f-477a-de69-0de2ec196bfa"
      },
      "source": [
        "\n",
        "\n",
        "def last(n):\n",
        "    return n[-1]  \n",
        "   \n",
        "def sort(tuples):\n",
        "    return sorted(tuples, key=last)\n",
        "   \n",
        "a=[(1, 3), (3, 2), (2, 1)]\n",
        "print(\"Sorted:\")\n",
        "print(sort(a))"
      ],
      "execution_count": null,
      "outputs": [
        {
          "output_type": "stream",
          "name": "stdout",
          "text": [
            "Sorted:\n",
            "[(2, 1), (3, 2), (1, 3)]\n"
          ]
        }
      ]
    },
    {
      "cell_type": "code",
      "metadata": {
        "colab": {
          "base_uri": "https://localhost:8080/"
        },
        "id": "_pxMT-J-Jy2G",
        "outputId": "6c4a1667-b4d8-4009-9164-345cba280c14"
      },
      "source": [
        "ade=[(2, 5), (1, 2), (4, 4), (2, 3), (2, 1)] \n",
        "\n",
        "result = sorted(ade[4])\n",
        "print (result)"
      ],
      "execution_count": null,
      "outputs": [
        {
          "output_type": "stream",
          "name": "stdout",
          "text": [
            "[1, 2]\n"
          ]
        }
      ]
    },
    {
      "cell_type": "markdown",
      "metadata": {
        "id": "GKUpMCRVmW5A"
      },
      "source": [
        "Write a Python program to combine two dictionary adding values for common keys.\n",
        "\n",
        "d1 = {'a': 100, 'b': 200, 'c':300}\n",
        "d2 = {'a': 300, 'b': 200, 'd':400}\n",
        "Expected output: {'a': 400, 'b': 400, 'd': 400, 'c': 300}"
      ]
    },
    {
      "cell_type": "code",
      "metadata": {
        "id": "QEIB5GS9mPIh"
      },
      "source": [
        "def combine_dict(c,d):\n",
        "  e = dict(c)\n",
        "  for i,j in c.items():\n",
        "    for k,l in d.items():\n",
        "      if i == k:\n",
        "        e[i]= j+l\n",
        "  return e\n",
        "\n"
      ],
      "execution_count": null,
      "outputs": []
    },
    {
      "cell_type": "code",
      "metadata": {
        "colab": {
          "base_uri": "https://localhost:8080/"
        },
        "id": "vru7Di8ssUQJ",
        "outputId": "be5b5bc2-2838-4946-d81e-04c51f646bb6"
      },
      "source": [
        "d1 = {'a': 100, 'b': 200, 'c':300} \n",
        "d2 = {'a': 300, 'b': 200, 'd':400}\n",
        "\n",
        "print(combine_dict(d1,d2))"
      ],
      "execution_count": null,
      "outputs": [
        {
          "output_type": "stream",
          "name": "stdout",
          "text": [
            "{'a': 400, 'b': 400, 'c': 300}\n"
          ]
        }
      ]
    },
    {
      "cell_type": "markdown",
      "metadata": {
        "id": "3daMyu3_1MD_"
      },
      "source": [
        "Question: With a given integral number n, write a program to generate a dictionary that contains (i, i*i) such that is an integral number between 1 and n (both included). and then the program should print the dictionary. Suppose the following input is supplied to the program: 8 Then, the output should be: {1: 1, 2: 4, 3: 9, 4: 16, 5: 25, 6: 36, 7: 49, 8: 64}"
      ]
    },
    {
      "cell_type": "code",
      "metadata": {
        "id": "0MTgrJQL1NLk",
        "colab": {
          "base_uri": "https://localhost:8080/"
        },
        "outputId": "4f1011f2-d505-43bd-991e-504f6fb6d1fd"
      },
      "source": [
        "def integral_number (n):\n",
        "  #dictionary comprehension\n",
        "  squares= {i : i*i for i in range(1,n+1)}\n",
        "  return squares\n",
        "print(integral_number(8))"
      ],
      "execution_count": 15,
      "outputs": [
        {
          "output_type": "stream",
          "name": "stdout",
          "text": [
            "{1: 1, 2: 4, 3: 9, 4: 16, 5: 25, 6: 36, 7: 49, 8: 64}\n"
          ]
        }
      ]
    },
    {
      "cell_type": "markdown",
      "metadata": {
        "id": "wbwA5GGGGzs1"
      },
      "source": [
        "Write a program to sort a tuple by its float element.\n",
        "For example list= [('item1', '12.20'), ('item2', '15.10'), ('item3', '24.5')]\n",
        "Expected Output: [('item3', '24.5'), ('item2', '15.10'), ('item1', '12.20')]"
      ]
    },
    {
      "cell_type": "code",
      "metadata": {
        "colab": {
          "base_uri": "https://localhost:8080/"
        },
        "id": "Pyy4oF5AGy21",
        "outputId": "a455e269-181f-4e29-d578-2dddd79f2f2a"
      },
      "source": [
        "def sort(tuples):\n",
        "    return sorted(tuples, key=lambda x: float(x[1]), reverse=True)\n",
        "a=[('item1', '12.20'), ('item2', '15.10') ,('item3', '24.5')] \n",
        "print(sort(a))"
      ],
      "execution_count": 30,
      "outputs": [
        {
          "output_type": "stream",
          "name": "stdout",
          "text": [
            "[('item3', '24.5'), ('item2', '15.10'), ('item1', '12.20')]\n"
          ]
        }
      ]
    },
    {
      "cell_type": "code",
      "metadata": {
        "colab": {
          "base_uri": "https://localhost:8080/"
        },
        "id": "UtjbZQDFCJwy",
        "outputId": "f28a9498-c0f4-4ea1-e45f-56be2b0d64df"
      },
      "source": [
        "a=input(\"enter a number:\")\n",
        "b=input(\"enter another number:\")\n",
        "c=float(a)+float(b)\n",
        "print(c)"
      ],
      "execution_count": 5,
      "outputs": [
        {
          "output_type": "stream",
          "name": "stdout",
          "text": [
            "enter a number:4\n",
            "enter another number:5\n",
            "9.0\n"
          ]
        }
      ]
    },
    {
      "cell_type": "code",
      "metadata": {
        "colab": {
          "base_uri": "https://localhost:8080/"
        },
        "id": "VkUgeu5uC4RR",
        "outputId": "dea1cb19-c81f-4d3f-8e25-c8edb6e2f680"
      },
      "source": [
        "from math import *\n",
        "round(3.5666,1) # ceil takes only one argument whereas round takes 2 args"
      ],
      "execution_count": 12,
      "outputs": [
        {
          "output_type": "execute_result",
          "data": {
            "text/plain": [
              "3.6"
            ]
          },
          "metadata": {},
          "execution_count": 12
        }
      ]
    },
    {
      "cell_type": "code",
      "metadata": {
        "colab": {
          "base_uri": "https://localhost:8080/"
        },
        "id": "GFO5GesOMux_",
        "outputId": "3b3121f1-1f09-471f-eb6d-a7c51839eff9"
      },
      "source": [
        "def myfunc(n):\n",
        "  return lambda a : a * n #Use lambda functions when an anonymous function is required for a short period of time.\n",
        "\n",
        "mydoubler = myfunc(2)\n",
        "\n",
        "print(mydoubler(11))"
      ],
      "execution_count": 25,
      "outputs": [
        {
          "output_type": "stream",
          "name": "stdout",
          "text": [
            "22\n"
          ]
        }
      ]
    },
    {
      "cell_type": "code",
      "metadata": {
        "colab": {
          "base_uri": "https://localhost:8080/"
        },
        "id": "WYqKiYr7MweH",
        "outputId": "e21ab959-df45-44b4-f3c7-651000e66964"
      },
      "source": [
        "def myfunc(n):\n",
        "  j=2\n",
        "  \n",
        "  return j*n\n",
        "\n",
        "\n",
        "\n",
        "print(myfunc(11))"
      ],
      "execution_count": 27,
      "outputs": [
        {
          "output_type": "stream",
          "name": "stdout",
          "text": [
            "22\n"
          ]
        }
      ]
    },
    {
      "cell_type": "markdown",
      "metadata": {
        "id": "g24GUJvMmVKA"
      },
      "source": [
        ""
      ]
    }
  ]
}