{
 "cells": [
  {
   "cell_type": "markdown",
   "metadata": {},
   "source": [
    "Write a python class named Point3D defined by x, y, and z. Define a method that returns (x, y ,z). This tells Python to represent this object in the following format: (x, y, z). Then create a variable named my_point"
   ]
  },
  {
   "cell_type": "code",
   "execution_count": 2,
   "metadata": {},
   "outputs": [
    {
     "name": "stdout",
     "output_type": "stream",
     "text": [
      "(12, 10, 11)\n"
     ]
    }
   ],
   "source": [
    "class Point3D():\n",
    "    def __init__(self, x, y,z):\n",
    "      self.x = x\n",
    "      self.y = y\n",
    "      self.z = z\n",
    "      \n",
    "\n",
    "    def the_method(self):\n",
    "      return self.x,self.y,self.z\n",
    "\n",
    "my_point = Point3D(12, 10,11)\n",
    "print(my_point.the_method())"
   ]
  },
  {
   "cell_type": "markdown",
   "metadata": {},
   "source": [
    "Write a Python class named Circle constructed by its center O and radius r. Define two methods area and perimeter which will compute the area and the perimeter of the circle, and isInside() method of the class which allows to test whether a point A(x, y) belongs to the circle C(O, r) or not."
   ]
  },
  {
   "cell_type": "code",
   "execution_count": 5,
   "metadata": {},
   "outputs": [
    {
     "name": "stdout",
     "output_type": "stream",
     "text": [
      "Cordinates (6, 7) are not within the circle\n"
     ]
    }
   ],
   "source": [
    "class Circle():\n",
    "  def __init__(self,O,r):\n",
    "    self.radius=r\n",
    "    self.center=O\n",
    "\n",
    "  def area(self):\n",
    "    return self.radius**2*3.14\n",
    "\n",
    "  def perimeter(self):\n",
    "     return self.radius*2*3.14 \n",
    "\n",
    "  def isInside(self,x,y):\n",
    "     if x**2 + y**2<= self.radius**2:\n",
    "       return f'Cordinates {x,y} are within the circle'\n",
    "     else:\n",
    "       return f'Cordinates {x,y} are not within the circle'\n",
    "      \n",
    "\n",
    "\n",
    "#For a circle with center (x,y) and radius r, a point (x1, y1) is within the circle if\n",
    "\n",
    "#a² + b² <= r²\n",
    "\n",
    "NewCircle = Circle(8,9)\n",
    "print(NewCircle.isInside(6,7))\n"
   ]
  },
  {
   "cell_type": "markdown",
   "metadata": {},
   "source": [
    "Suppose we want to model a bank account with support for deposit and withdraw operations. Let’s create a python class named bank defined by its balance. Define two methods deposit and withdraw to compute the new amount of each operation."
   ]
  },
  {
   "cell_type": "code",
   "execution_count": 8,
   "metadata": {},
   "outputs": [
    {
     "name": "stdout",
     "output_type": "stream",
     "text": [
      "Hello!!! Welcome to the Deposit & Withdrawal Machine\n",
      "Enter amount to be Deposited: 20\n",
      "\n",
      " Amount Deposited: 20.0\n",
      "\n",
      " Enter amount to be Withdrawn: 40\n",
      "\n",
      " Insufficient balance  \n",
      "\n",
      " Net Available Balance= 20.0\n"
     ]
    }
   ],
   "source": [
    "# Python program to create Bankaccount class\n",
    "# with both a deposit() and a withdraw() function\n",
    "class Bank:\n",
    "    def __init__(self):\n",
    "        self.balance=0\n",
    "        print(\"Hello!!! Welcome to the Deposit & Withdrawal Machine\")\n",
    " \n",
    "    def deposit(self):\n",
    "        amount=float(input(\"Enter amount to be Deposited: \"))\n",
    "        self.balance += amount\n",
    "        print(\"\\n Amount Deposited:\",amount)\n",
    " \n",
    "    def withdraw(self):\n",
    "        amount = float(input(\"\\n Enter amount to be Withdrawn: \"))\n",
    "        if self.balance>=amount:\n",
    "            self.balance-=amount\n",
    "            print(\"\\n You Withdrew:\", amount)\n",
    "        else:\n",
    "            print(\"\\n Insufficient balance  \")\n",
    " \n",
    "    def display(self):\n",
    "        print(\"\\n Net Available Balance=\",self.balance)\n",
    "\n",
    "        # Driver code\n",
    "  \n",
    "# creating an object of class\n",
    "s = Bank()\n",
    "  \n",
    "# Calling functions with that class object\n",
    "s.deposit()\n",
    "s.withdraw()\n",
    "s.display()"
   ]
  },
  {
   "cell_type": "markdown",
   "metadata": {},
   "source": [
    "Write a Python class named Rectangle constructed by a length and width. Define two methods area and perimeter which will compute the area and the perimeter of the rectangle. Then create a variable named my_rectangle containing a new instance of Rectangle with width=3 and length = 4 and compute both of area and perimeter ( the area is expected to be 34=12 and perimeter 2(3+4)=14)"
   ]
  },
  {
   "cell_type": "code",
   "execution_count": 9,
   "metadata": {},
   "outputs": [
    {
     "name": "stdout",
     "output_type": "stream",
     "text": [
      "12\n",
      "14\n"
     ]
    }
   ],
   "source": [
    "class Rectangle:\n",
    "  def __init__(self,l,w):\n",
    "    self.length=l\n",
    "    self.width=w\n",
    "\n",
    "  def area(self):\n",
    "    return self.length* self.width\n",
    "\n",
    "  def perimeter(self):\n",
    "    return (self.length*2) + (self.width*2)\n",
    "\n",
    "my_rectangle=Rectangle(4,3)\n",
    "print(my_rectangle.area())\n",
    "print(my_rectangle.perimeter())\n",
    "\n",
    "\n"
   ]
  },
  {
   "cell_type": "code",
   "execution_count": null,
   "metadata": {},
   "outputs": [],
   "source": []
  }
 ],
 "metadata": {
  "kernelspec": {
   "display_name": "Python 3",
   "language": "python",
   "name": "python3"
  },
  "language_info": {
   "codemirror_mode": {
    "name": "ipython",
    "version": 3
   },
   "file_extension": ".py",
   "mimetype": "text/x-python",
   "name": "python",
   "nbconvert_exporter": "python",
   "pygments_lexer": "ipython3",
   "version": "3.8.5"
  }
 },
 "nbformat": 4,
 "nbformat_minor": 4
}
